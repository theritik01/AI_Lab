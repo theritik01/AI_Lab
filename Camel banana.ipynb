{
 "cells": [
  {
   "cell_type": "code",
   "execution_count": 15,
   "id": "f94deda8",
   "metadata": {},
   "outputs": [
    {
     "name": "stdout",
     "output_type": "stream",
     "text": [
      "No. of bananas : 3000\n",
      "Distance : 1000\n",
      "left banana :  533.0\n"
     ]
    }
   ],
   "source": [
    "total = int(input(\"No. of bananas : \"))\n",
    "distance = int(input(\"Distance : \"))\n",
    "lose = 0\n",
    "while total > distance:\n",
    "    n = (total/distance)*2-1\n",
    "    x = distance//n\n",
    "    lose = lose + x\n",
    "    total = total - distance\n",
    "distleft = total - lose\n",
    "banana_needed = distleft\n",
    "banana_left = total - banana_needed\n",
    "print('left banana : ',banana_left)"
   ]
  },
  {
   "cell_type": "code",
   "execution_count": null,
   "id": "57915635",
   "metadata": {},
   "outputs": [],
   "source": []
  }
 ],
 "metadata": {
  "kernelspec": {
   "display_name": "Python 3 (ipykernel)",
   "language": "python",
   "name": "python3"
  },
  "language_info": {
   "codemirror_mode": {
    "name": "ipython",
    "version": 3
   },
   "file_extension": ".py",
   "mimetype": "text/x-python",
   "name": "python",
   "nbconvert_exporter": "python",
   "pygments_lexer": "ipython3",
   "version": "3.9.7"
  }
 },
 "nbformat": 4,
 "nbformat_minor": 5
}
